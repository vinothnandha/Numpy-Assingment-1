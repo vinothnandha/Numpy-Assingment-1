{
 "cells": [
  {
   "cell_type": "raw",
   "id": "a14ced5b",
   "metadata": {},
   "source": [
    "Q1) Use numpy to generate array of 25 random numbers sampled from a standard normal distribution"
   ]
  },
  {
   "cell_type": "code",
   "execution_count": 33,
   "id": "da3f0a3f",
   "metadata": {},
   "outputs": [
    {
     "name": "stdout",
     "output_type": "stream",
     "text": [
      "25 Random Number: [-1.6591813   0.00476034 -1.60807007 -0.7718619   3.04871045  0.07671475\n",
      "  1.018715   -0.31150846  1.54387953 -0.13048714 -1.21552069  0.28004147\n",
      " -1.44652894 -1.18685833 -0.24987362  1.16979953  0.7972783  -0.29953677\n",
      " -0.17141129  0.59703692  0.99504307 -1.20719366  1.80240165 -0.8270256\n",
      "  0.12339904]\n"
     ]
    }
   ],
   "source": [
    "import numpy as np\n",
    "a = np.random.normal(0,1,25)\n",
    "print(\"25 Random Number:\",a)"
   ]
  },
  {
   "cell_type": "raw",
   "id": "5757dad2",
   "metadata": {},
   "source": [
    "Q2) Create a random vector of size 30 and find the mean value."
   ]
  },
  {
   "cell_type": "code",
   "execution_count": 29,
   "id": "c3875598",
   "metadata": {},
   "outputs": [
    {
     "name": "stdout",
     "output_type": "stream",
     "text": [
      "Original array:\n",
      " [0.7637816  0.35643424 0.0271251  0.14854509 0.44843889 0.21072784\n",
      " 0.6476749  0.99030247 0.31404272 0.37730924 0.8837318  0.2624883\n",
      " 0.54917989 0.84635406 0.51610834 0.71309256 0.31604142 0.56645326\n",
      " 0.55945446 0.79480563 0.27847681 0.83737105 0.42645596 0.97372099\n",
      " 0.56549919 0.72679477 0.61444204 0.34390049 0.24198582 0.5910884 ]\n",
      "Mean: 0.5297275782426801\n"
     ]
    }
   ],
   "source": [
    "import numpy as np\n",
    "x = np.random.random(30)\n",
    "print(\"Original array:\\n\",x)\n",
    "print(\"Mean:\",np.mean(x))"
   ]
  },
  {
   "cell_type": "raw",
   "id": "8507bf26",
   "metadata": {},
   "source": [
    "Q3) Insert 1 to 100 numbers in a numpy array and reshape it to 10*10 matrix."
   ]
  },
  {
   "cell_type": "code",
   "execution_count": 38,
   "id": "9ae8ee6e",
   "metadata": {},
   "outputs": [
    {
     "name": "stdout",
     "output_type": "stream",
     "text": [
      "10x10 Matrix:\n",
      " [[53 77 62 96 25 91 78 48 36 62]\n",
      " [71  6 94 69 32 16 64 70 99 83]\n",
      " [83 26 10 84 75  1  9 13 12 79]\n",
      " [38 20 39 52 26 42  6 65 71 58]\n",
      " [70 34 25 23 18 13 16 73 35 48]\n",
      " [13 46 94 72 33 63 82 32 96 76]\n",
      " [48 84 89  7 58 79 99 11 12 33]\n",
      " [33 36  7 31 24 87 31 97 85 43]\n",
      " [75 52 29 42 68 36 20 92 81 22]\n",
      " [ 2  7 56 67 82 68 79 15  3 14]]\n",
      "[96 99 84 71 73 96 99 97 92 82]\n"
     ]
    }
   ],
   "source": [
    "import numpy as np\n",
    "\n",
    "a = np.random.randint(1,101,(10,10))\n",
    "print(\"10x10 Matrix:\\n\",a)"
   ]
  },
  {
   "cell_type": "raw",
   "id": "d373c225",
   "metadata": {},
   "source": [
    "Q4) Create a 10x10 array with random values and find the minimum and maximum values."
   ]
  },
  {
   "cell_type": "code",
   "execution_count": 42,
   "id": "0e9a6c82",
   "metadata": {},
   "outputs": [
    {
     "name": "stdout",
     "output_type": "stream",
     "text": [
      "Original Array:\n",
      " [[0.36170024 0.26891542 0.96249488 0.60051333 0.48201246]\n",
      " [0.04713402 0.56603147 0.90515886 0.39392824 0.06836745]\n",
      " [0.363441   0.15603734 0.32761196 0.4539566  0.65277879]\n",
      " [0.15226218 0.60262198 0.47174925 0.71014993 0.33869539]\n",
      " [0.3200839  0.23510344 0.74938456 0.91756805 0.09070786]]\n",
      "Minimum Values:0.04713401986449284 and \n",
      "Maximum Values:0.9624948773597704\n"
     ]
    }
   ],
   "source": [
    "import numpy as np\n",
    "x = np.random.random((5,5))\n",
    "print(\"Original Array:\\n\",x)\n",
    "xmin, xmax = x.min(), x.max()\n",
    "print(\"Minimum Values:{0} and \\nMaximum Values:{1}\".format(x.min(),x.max()))"
   ]
  },
  {
   "cell_type": "raw",
   "id": "aed34b70",
   "metadata": {},
   "source": [
    "Q5) Find Dot product of two arrays\n",
    "\n",
    "    f = np.array([1,2])\n",
    "    \n",
    "    g = np.array([4,5])"
   ]
  },
  {
   "cell_type": "code",
   "execution_count": 44,
   "id": "9d6df97d",
   "metadata": {},
   "outputs": [
    {
     "name": "stdout",
     "output_type": "stream",
     "text": [
      "Dot Product of Two Array: 14\n"
     ]
    }
   ],
   "source": [
    "import numpy as np\n",
    "\n",
    "f = np.array([1,2])\n",
    "    \n",
    "g = np.array([4,5])\n",
    "\n",
    "d = np.dot(f,g)\n",
    "print(\"Dot Product of Two Array:\",d)"
   ]
  },
  {
   "cell_type": "raw",
   "id": "d69bdf88",
   "metadata": {},
   "source": [
    "Q6) Concatenate following arrays along axis=0\n",
    "    Ans: x=np.array([[1,2],[3,4]])\n",
    "         y=np.array([[5,6]])"
   ]
  },
  {
   "cell_type": "code",
   "execution_count": 57,
   "id": "ef777067",
   "metadata": {},
   "outputs": [
    {
     "name": "stdout",
     "output_type": "stream",
     "text": [
      "Concatenate: [ 6  8  8 10]\n"
     ]
    }
   ],
   "source": [
    "import numpy as np\n",
    "\n",
    "x=np.array([[1,2],[3,4]])\n",
    "y=np.array([[5,6]])\n",
    "d = x + y\n",
    "c = np.concatenate(d,axis=0)\n",
    "print(\"Concatenate:\",c)"
   ]
  },
  {
   "cell_type": "raw",
   "id": "198c9ab5",
   "metadata": {},
   "source": [
    "Q7) How to get the common items between two python numpy arrays?\n",
    "    a = np.array([1,2,3,2,3,4,3,4,5,6])\n",
    "\n",
    "    b = np.array([7,2,10,2,7,4,9,4,9,8])"
   ]
  },
  {
   "cell_type": "code",
   "execution_count": 60,
   "id": "9aa46882",
   "metadata": {},
   "outputs": [
    {
     "name": "stdout",
     "output_type": "stream",
     "text": [
      "Original array-a:[1 2 3 2 3 4 3 4 5 6] \n",
      "Original array-b:[ 7  2 10  2  7  4  9  4  9  8]\n",
      "Common values: [2 4]\n"
     ]
    }
   ],
   "source": [
    "import numpy as np\n",
    "a = np.array([1,2,3,2,3,4,3,4,5,6])\n",
    "\n",
    "b = np.array([7,2,10,2,7,4,9,4,9,8])\n",
    "\n",
    "print(\"Original array-a:{0} \\nOriginal array-b:{1}\".format(a,b))\n",
    "c = np.intersect1d(a, b)\n",
    "print(\"Common values:\", c)\n"
   ]
  },
  {
   "cell_type": "raw",
   "id": "347983be",
   "metadata": {},
   "source": [
    "Q8) Sort the numpy array:\n",
    "\n",
    "    arr = np.array([10,5,8,4,7,2,3,1])"
   ]
  },
  {
   "cell_type": "code",
   "execution_count": 65,
   "id": "ba876af3",
   "metadata": {},
   "outputs": [
    {
     "name": "stdout",
     "output_type": "stream",
     "text": [
      "Sorting Array: [ 1  2  3  4  5  7  8 10]\n"
     ]
    }
   ],
   "source": [
    "import numpy as np\n",
    "arr = np.array([10,5,8,4,7,2,3,1])\n",
    "print(\"Sorting Array:\",np.sort(arr))"
   ]
  },
  {
   "cell_type": "code",
   "execution_count": null,
   "id": "4c4d27c6",
   "metadata": {},
   "outputs": [],
   "source": []
  }
 ],
 "metadata": {
  "kernelspec": {
   "display_name": "Python 3",
   "language": "python",
   "name": "python3"
  },
  "language_info": {
   "codemirror_mode": {
    "name": "ipython",
    "version": 3
   },
   "file_extension": ".py",
   "mimetype": "text/x-python",
   "name": "python",
   "nbconvert_exporter": "python",
   "pygments_lexer": "ipython3",
   "version": "3.9.5"
  }
 },
 "nbformat": 4,
 "nbformat_minor": 5
}
